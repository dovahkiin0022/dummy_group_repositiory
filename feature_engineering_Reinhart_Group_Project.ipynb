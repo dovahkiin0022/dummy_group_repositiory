{
  "nbformat": 4,
  "nbformat_minor": 0,
  "metadata": {
    "colab": {
      "name": "feature_engineering_Reinhart_Group_Project.ipynb",
      "provenance": [],
      "collapsed_sections": [],
      "authorship_tag": "ABX9TyOq6I8+Ua3z+Awid0ptjahS",
      "include_colab_link": true
    },
    "kernelspec": {
      "name": "python3",
      "display_name": "Python 3"
    },
    "language_info": {
      "name": "python"
    }
  },
  "cells": [
    {
      "cell_type": "markdown",
      "metadata": {
        "id": "view-in-github",
        "colab_type": "text"
      },
      "source": [
        "<a href=\"https://colab.research.google.com/github/dovahkiin0022/dummy_group_repositiory/blob/main/feature_engineering_Reinhart_Group_Project.ipynb\" target=\"_parent\"><img src=\"https://colab.research.google.com/assets/colab-badge.svg\" alt=\"Open In Colab\"/></a>"
      ]
    },
    {
      "cell_type": "code",
      "execution_count": 2,
      "metadata": {
        "colab": {
          "base_uri": "https://localhost:8080/"
        },
        "id": "hmYW-XNNeOzm",
        "outputId": "ecc89fe8-c593-479e-f3c7-8383fbd7ee00"
      },
      "outputs": [
        {
          "output_type": "stream",
          "name": "stdout",
          "text": [
            "Drive already mounted at /content/gdrive/; to attempt to forcibly remount, call drive.mount(\"/content/gdrive/\", force_remount=True).\n"
          ]
        }
      ],
      "source": [
        "\n",
        "\n",
        "\n",
        "# Load data \\\n",
        "import pandas as pd\n",
        "\n",
        "from google.colab import drive\n",
        "drive.mount('/content/gdrive/')\n",
        "# weekly_meeting_directory = '/content/gdrive/My Drive/Weekly-Research-Meetings-Becca-Wes/'\n",
        "# week = 'May 11th'\n",
        "\n",
        "df = pd.read_csv('gdrive/My Drive/Reinhart_Group_Project/hw5-iron-alloy.csv')"
      ]
    },
    {
      "cell_type": "code",
      "source": [
        "df"
      ],
      "metadata": {
        "id": "uq41uvuviBMY"
      },
      "execution_count": null,
      "outputs": []
    },
    {
      "cell_type": "code",
      "source": [
        "# Fill in missing values \n",
        "\n",
        "#Options - 1) Remove any datapoint with missing values \n",
        "#          2) Use interpolation to fill in the values ( interpolate with respect to what?)\n",
        "#          3)"
      ],
      "metadata": {
        "id": "O6u3GhkGeWfV"
      },
      "execution_count": null,
      "outputs": []
    },
    {
      "cell_type": "code",
      "source": [
        ""
      ],
      "metadata": {
        "colab": {
          "base_uri": "https://localhost:8080/",
          "height": 195
        },
        "id": "l36O3L2vjU83",
        "outputId": "ad176063-b73a-4837-da75-85436da4cd31"
      },
      "execution_count": 4,
      "outputs": [
        {
          "output_type": "execute_result",
          "data": {
            "text/plain": [
              "Empty DataFrame\n",
              "Columns: [Names, Elastic (Young's, Tensile) Modulus, Elongation at Break, Poisson's Ratio, Shear Modulus, Tensile Strength: Ultimate (UTS), Tensile Strength: Yield (Proof), Latent Heat of Fusion, Melting Completion (Liquidus), Melting Onset (Solidus), Specific Heat Capacity, Thermal Conductivity, Thermal Expansion, Electrical Conductivity: Equal Volume, Electrical Conductivity: Equal Weight (Specific), Base Metal Price, Density, Embodied Carbon, Embodied Energy, Embodied Water, Resilience: Ultimate (Unit Rupture Work), Resilience: Unit (Modulus of Resilience), Stiffness to Weight: Axial, Stiffness to Weight: Bending, Strength to Weight: Axial, Strength to Weight: Bending, Thermal Diffusivity, Thermal Shock Resistance, Iron (Fe)Fe, Nickel (Ni)Ni, Manganese (Mn)Mn, Molybdenum (Mo)Mo, Silicon (Si)Si, Copper (Cu)Cu, Carbon (C)C, Chromium (Cr)Cr, Vanadium (V)V, Phosphorus (P)P, Sulfur (S)S, Residualsres., PREN (Pitting Resistance), Niobium (Nb)Nb, Nitrogen (N)N, Aluminum (Al)Al, Titanium (Ti)Ti, Zirconium (Zr)Zr, Brinell Hardness, Fatigue Strength, Reduction in Area, Maximum Temperature: Mechanical, Impact Strength: V-Notched Charpy, Tungsten (W)W, Maximum Temperature: Corrosion, Selenium (Se)Se, Cobalt (Co)Co, Magnesium (Mg)Mg, Tin (Sn)Sn, Arsenic (As)As, Fracture Toughness, Shear Strength, Compressive (Crushing) Strength, Curie Temperature, Rockwell C Hardness, Calcium (Ca)Ca, Boron (B)B, Oxygen (O)O, Rockwell B Hardness, Calomel Potential, Tantalum (Ta)Ta, Cerium (Ce)Ce, Lanthanum (La)La, Lead (Pb)Pb, Zinc (Zn)Zn]\n",
              "Index: []\n",
              "\n",
              "[0 rows x 73 columns]"
            ],
            "text/html": [
              "\n",
              "  <div id=\"df-be2f07f9-7f17-4a69-a464-da4aeb2025e5\">\n",
              "    <div class=\"colab-df-container\">\n",
              "      <div>\n",
              "<style scoped>\n",
              "    .dataframe tbody tr th:only-of-type {\n",
              "        vertical-align: middle;\n",
              "    }\n",
              "\n",
              "    .dataframe tbody tr th {\n",
              "        vertical-align: top;\n",
              "    }\n",
              "\n",
              "    .dataframe thead th {\n",
              "        text-align: right;\n",
              "    }\n",
              "</style>\n",
              "<table border=\"1\" class=\"dataframe\">\n",
              "  <thead>\n",
              "    <tr style=\"text-align: right;\">\n",
              "      <th></th>\n",
              "      <th>Names</th>\n",
              "      <th>Elastic (Young's, Tensile) Modulus</th>\n",
              "      <th>Elongation at Break</th>\n",
              "      <th>Poisson's Ratio</th>\n",
              "      <th>Shear Modulus</th>\n",
              "      <th>Tensile Strength: Ultimate (UTS)</th>\n",
              "      <th>Tensile Strength: Yield (Proof)</th>\n",
              "      <th>Latent Heat of Fusion</th>\n",
              "      <th>Melting Completion (Liquidus)</th>\n",
              "      <th>Melting Onset (Solidus)</th>\n",
              "      <th>...</th>\n",
              "      <th>Calcium (Ca)Ca</th>\n",
              "      <th>Boron (B)B</th>\n",
              "      <th>Oxygen (O)O</th>\n",
              "      <th>Rockwell B Hardness</th>\n",
              "      <th>Calomel Potential</th>\n",
              "      <th>Tantalum (Ta)Ta</th>\n",
              "      <th>Cerium (Ce)Ce</th>\n",
              "      <th>Lanthanum (La)La</th>\n",
              "      <th>Lead (Pb)Pb</th>\n",
              "      <th>Zinc (Zn)Zn</th>\n",
              "    </tr>\n",
              "  </thead>\n",
              "  <tbody>\n",
              "  </tbody>\n",
              "</table>\n",
              "<p>0 rows × 73 columns</p>\n",
              "</div>\n",
              "      <button class=\"colab-df-convert\" onclick=\"convertToInteractive('df-be2f07f9-7f17-4a69-a464-da4aeb2025e5')\"\n",
              "              title=\"Convert this dataframe to an interactive table.\"\n",
              "              style=\"display:none;\">\n",
              "        \n",
              "  <svg xmlns=\"http://www.w3.org/2000/svg\" height=\"24px\"viewBox=\"0 0 24 24\"\n",
              "       width=\"24px\">\n",
              "    <path d=\"M0 0h24v24H0V0z\" fill=\"none\"/>\n",
              "    <path d=\"M18.56 5.44l.94 2.06.94-2.06 2.06-.94-2.06-.94-.94-2.06-.94 2.06-2.06.94zm-11 1L8.5 8.5l.94-2.06 2.06-.94-2.06-.94L8.5 2.5l-.94 2.06-2.06.94zm10 10l.94 2.06.94-2.06 2.06-.94-2.06-.94-.94-2.06-.94 2.06-2.06.94z\"/><path d=\"M17.41 7.96l-1.37-1.37c-.4-.4-.92-.59-1.43-.59-.52 0-1.04.2-1.43.59L10.3 9.45l-7.72 7.72c-.78.78-.78 2.05 0 2.83L4 21.41c.39.39.9.59 1.41.59.51 0 1.02-.2 1.41-.59l7.78-7.78 2.81-2.81c.8-.78.8-2.07 0-2.86zM5.41 20L4 18.59l7.72-7.72 1.47 1.35L5.41 20z\"/>\n",
              "  </svg>\n",
              "      </button>\n",
              "      \n",
              "  <style>\n",
              "    .colab-df-container {\n",
              "      display:flex;\n",
              "      flex-wrap:wrap;\n",
              "      gap: 12px;\n",
              "    }\n",
              "\n",
              "    .colab-df-convert {\n",
              "      background-color: #E8F0FE;\n",
              "      border: none;\n",
              "      border-radius: 50%;\n",
              "      cursor: pointer;\n",
              "      display: none;\n",
              "      fill: #1967D2;\n",
              "      height: 32px;\n",
              "      padding: 0 0 0 0;\n",
              "      width: 32px;\n",
              "    }\n",
              "\n",
              "    .colab-df-convert:hover {\n",
              "      background-color: #E2EBFA;\n",
              "      box-shadow: 0px 1px 2px rgba(60, 64, 67, 0.3), 0px 1px 3px 1px rgba(60, 64, 67, 0.15);\n",
              "      fill: #174EA6;\n",
              "    }\n",
              "\n",
              "    [theme=dark] .colab-df-convert {\n",
              "      background-color: #3B4455;\n",
              "      fill: #D2E3FC;\n",
              "    }\n",
              "\n",
              "    [theme=dark] .colab-df-convert:hover {\n",
              "      background-color: #434B5C;\n",
              "      box-shadow: 0px 1px 3px 1px rgba(0, 0, 0, 0.15);\n",
              "      filter: drop-shadow(0px 1px 2px rgba(0, 0, 0, 0.3));\n",
              "      fill: #FFFFFF;\n",
              "    }\n",
              "  </style>\n",
              "\n",
              "      <script>\n",
              "        const buttonEl =\n",
              "          document.querySelector('#df-be2f07f9-7f17-4a69-a464-da4aeb2025e5 button.colab-df-convert');\n",
              "        buttonEl.style.display =\n",
              "          google.colab.kernel.accessAllowed ? 'block' : 'none';\n",
              "\n",
              "        async function convertToInteractive(key) {\n",
              "          const element = document.querySelector('#df-be2f07f9-7f17-4a69-a464-da4aeb2025e5');\n",
              "          const dataTable =\n",
              "            await google.colab.kernel.invokeFunction('convertToInteractive',\n",
              "                                                     [key], {});\n",
              "          if (!dataTable) return;\n",
              "\n",
              "          const docLinkHtml = 'Like what you see? Visit the ' +\n",
              "            '<a target=\"_blank\" href=https://colab.research.google.com/notebooks/data_table.ipynb>data table notebook</a>'\n",
              "            + ' to learn more about interactive tables.';\n",
              "          element.innerHTML = '';\n",
              "          dataTable['output_type'] = 'display_data';\n",
              "          await google.colab.output.renderOutput(dataTable, element);\n",
              "          const docLink = document.createElement('div');\n",
              "          docLink.innerHTML = docLinkHtml;\n",
              "          element.appendChild(docLink);\n",
              "        }\n",
              "      </script>\n",
              "    </div>\n",
              "  </div>\n",
              "  "
            ]
          },
          "metadata": {},
          "execution_count": 4
        }
      ]
    },
    {
      "cell_type": "code",
      "source": [
        ""
      ],
      "metadata": {
        "id": "Epw1Kos1jWT8"
      },
      "execution_count": null,
      "outputs": []
    }
  ]
}