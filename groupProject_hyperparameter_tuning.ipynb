{
  "nbformat": 4,
  "nbformat_minor": 0,
  "metadata": {
    "colab": {
      "name": "groupProject_hyperparameter_tuning.ipynb",
      "provenance": [],
      "collapsed_sections": [],
      "authorship_tag": "ABX9TyMxL5H2W+GY5mC/UpGjpbmP",
      "include_colab_link": true
    },
    "kernelspec": {
      "name": "python3",
      "display_name": "Python 3"
    },
    "language_info": {
      "name": "python"
    }
  },
  "cells": [
    {
      "cell_type": "markdown",
      "metadata": {
        "id": "view-in-github",
        "colab_type": "text"
      },
      "source": [
        "<a href=\"https://colab.research.google.com/github/dovahkiin0022/dummy_group_repositiory/blob/trial_seda/groupProject_hyperparameter_tuning.ipynb\" target=\"_parent\"><img src=\"https://colab.research.google.com/assets/colab-badge.svg\" alt=\"Open In Colab\"/></a>"
      ]
    },
    {
      "cell_type": "markdown",
      "source": [
        "#**Hyperparameter Tuning**\n",
        "\n",
        "Hyperparameter tuning is an optimization problem, like model training.\n",
        "\n",
        "List of hyperparameters for a regression model:\n",
        "\n",
        "1. "
      ],
      "metadata": {
        "id": "KHi2kwIGeY4Q"
      }
    },
    {
      "cell_type": "markdown",
      "source": [
        "#Load Dataset"
      ],
      "metadata": {
        "id": "L7vEfQCIjiax"
      }
    },
    {
      "cell_type": "markdown",
      "source": [
        "#Grid Search\n",
        "Define a search space as a grid ('param_grid') of hyperparameter values and evaluate every position in the grid."
      ],
      "metadata": {
        "id": "rL0qD-_tiUJ7"
      }
    },
    {
      "cell_type": "code",
      "execution_count": null,
      "metadata": {
        "id": "boYIIit6dzpt"
      },
      "outputs": [],
      "source": [
        "from sklearn.model_selection import GridSearchCV\n",
        "\n",
        "def grid_search():\n",
        "  # Define grid of hyperparameters\n",
        "  param_grid = dict('eps': [1e-6, 1e-5, 0.0001], 'n_nonzero_coefs': [14, 15, 16]) #define parameters to be optimized here\n",
        "\n",
        "  #Define cross validation method if you prefer. Otherwise, it is a number (currently 10).\n",
        "  search = GridSearchCV(model, param_grid, scoring='neg_mean_absolute_percentage_error', \n",
        "                        n_jobs=-1, cv=10)\n",
        "\n",
        "  # Perform Grid Search using train input and output\n",
        "  result = search.fit(X_train, y_train)\n",
        "\n",
        "  print('Best Score: %0.4f' % result.best_score_)\n",
        "  print('Best Hyperparameters: %s' % result.best_params_)\n",
        "\n",
        "  # Return the best hyperparameters after Grid Search\n",
        "  return result.best_params_"
      ]
    },
    {
      "cell_type": "markdown",
      "source": [
        "#Random Search\n",
        "Define a search space as a bounded domain of hyperparameter values and randomly sample points in that domain."
      ],
      "metadata": {
        "id": "VSw5nnw2kiZh"
      }
    },
    {
      "cell_type": "code",
      "source": [
        "from sklearn.model_selection import RandomizedSearchCV"
      ],
      "metadata": {
        "id": "ORHAhjC9k4qk"
      },
      "execution_count": null,
      "outputs": []
    }
  ]
}